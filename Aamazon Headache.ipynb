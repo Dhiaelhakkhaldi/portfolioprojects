{
 "cells": [
  {
   "cell_type": "code",
   "execution_count": 20,
   "id": "8fb6b01d",
   "metadata": {},
   "outputs": [],
   "source": [
    "# importing libraries\n",
    "\n",
    "from bs4 import BeautifulSoup\n",
    "import requests\n",
    "import pandas as pd\n",
    "from selenium import webdriver\n",
    "from selenium.webdriver.chrome.options import Options\n",
    "import csv\n",
    "import smtplib\n",
    "import time\n",
    "import datetime"
   ]
  },
  {
   "cell_type": "code",
   "execution_count": 21,
   "id": "196c1b73",
   "metadata": {},
   "outputs": [
    {
     "name": "stdout",
     "output_type": "stream",
     "text": [
      "<span class=\"a-size-large product-title-word-break\" id=\"productTitle\">        Venum Elite Boxing Gloves       </span>\n",
      "[<span class=\"aok-offscreen\">   $88.25  </span>]\n"
     ]
    }
   ],
   "source": [
    "#scraping the data from the url \n",
    "\n",
    "\n",
    "url = \"https://www.amazon.com/Venum-Elite-Boxing-Gloves-Black/dp/B010HWJRI6/ref=sr_1_16?crid=2CYLXQJX43PD7&dib=eyJ2IjoiMSJ9.Fum9ItKdpsSii4YIWnyJJPl5PKlhTwpcR7ADnl88XwVY2QiKcEgGhlo5kye1iGmbQks3CZa4XxCN-vknO23m7xWZTGslk-oNbbNli21ojdsskGM3Ra1Wg3WdPefYHuXovp05eoxPW9YoHieRUyoWXDBGHQkOO9z7HHwyaD9bA0vYXdC-wghCehFEy2wETeZb47R80DBjtPnuhyOF5M7GABfix5nvzWvEL0PwCrO8Zhyg2RRaoDwxU5PFc_GbQ2RfrneRRGNCgrg7oMp7v3tlPTLMpJ8Qd50W31glt2pSsZo.K729KPHdRdfEreeOpnUoGRJBbU2rI1ZD4vPV2HbHGXU&dib_tag=se&keywords=boxing%2Bgloves%2B16%2Boz&qid=1710133604&sprefix=boxing%2Bgloves%2B16%2Caps%2C299&sr=8-16&th=1&psc=1\"\n",
    "options = Options()\n",
    "options.add_argument('--headless')\n",
    "options.add_argument('--disable-gpu')\n",
    "driver = webdriver.Chrome()\n",
    "driver.get(url)\n",
    "time.sleep(5)\n",
    "page = driver.page_source\n",
    "driver.quit()\n",
    "soup = BeautifulSoup(page, 'html.parser')\n",
    "\n",
    "price = soup.find_all('span', attrs={\n",
    "    'class':'aok-offscreen'})\n",
    "\n",
    "title = soup.find(id='productTitle')\n",
    "\n",
    "print(title)\n",
    "print(price)\n"
   ]
  },
  {
   "cell_type": "code",
   "execution_count": 22,
   "id": "8b79cd83",
   "metadata": {},
   "outputs": [
    {
     "name": "stdout",
     "output_type": "stream",
     "text": [
      "2024-03-12\n",
      "4.7 out of 5 stars\n",
      "Venum Elite Boxing Gloves\n",
      "88.25\n"
     ]
    }
   ],
   "source": [
    "#cleaning the dogshit out of these strings \n",
    "\n",
    "\n",
    "rating = soup.find('span', class_ = \"a-icon-alt\").get_text().strip() \n",
    "title = soup.find(id='productTitle').get_text().strip()\n",
    "price_span = soup.find('span', class_='aok-offscreen')\n",
    "price = price_span.text.strip()[1:]\n",
    "date = datetime.date.today()\n",
    "print(date)\n",
    "print(rating)\n",
    "print(title)\n",
    "print(price)"
   ]
  },
  {
   "cell_type": "code",
   "execution_count": 23,
   "id": "53ce5d3f",
   "metadata": {},
   "outputs": [],
   "source": [
    "#importing data to csv\n",
    "\n",
    "\n",
    "header = ['Title', 'Price', 'Rating', 'Date']\n",
    "data = [title, price, rating, date]\n",
    "\n",
    "with open ('C:\\\\Users\\\\Dhia\\AmazongDataSet.csv', 'w', newline='', encoding='UTF8') as file:\n",
    "    writer = csv.writer(file)\n",
    "    writer.writerow(header)\n",
    "    writer.writerow(data)"
   ]
  },
  {
   "cell_type": "code",
   "execution_count": 29,
   "id": "c0f3d129",
   "metadata": {},
   "outputs": [
    {
     "data": {
      "text/plain": [
       "'C:\\\\Users\\\\Dhia'"
      ]
     },
     "execution_count": 29,
     "metadata": {},
     "output_type": "execute_result"
    }
   ],
   "source": [
    "import os\n",
    "os.getcwd()"
   ]
  },
  {
   "cell_type": "code",
   "execution_count": 26,
   "id": "6347a967",
   "metadata": {},
   "outputs": [
    {
     "name": "stdout",
     "output_type": "stream",
     "text": [
      "                       Title  Price              Rating        Date\n",
      "0  Venum Elite Boxing Gloves  88.25  4.7 out of 5 stars  2024-03-12\n",
      "1  Venum Elite Boxing Gloves  88.25  4.7 out of 5 stars  2024-03-12\n"
     ]
    }
   ],
   "source": [
    "# Reading the contents using Pandas.\n",
    "\n",
    "\n",
    "df = pd.read_csv(r'C:\\\\Users\\\\Dhia\\AmazongDataSet.csv')\n",
    "\n",
    "print(df)"
   ]
  },
  {
   "cell_type": "code",
   "execution_count": 25,
   "id": "56d2c3ad",
   "metadata": {},
   "outputs": [],
   "source": [
    "#adding a row of data manually\n",
    "\n",
    "\n",
    "with open('AmazongDataSet.csv', 'a+', newline='', encoding='UTF8') as f:\n",
    "    writer = csv.writer(f)\n",
    "    writer.writerow(data)"
   ]
  },
  {
   "cell_type": "code",
   "execution_count": null,
   "id": "7e53534d",
   "metadata": {},
   "outputs": [],
   "source": [
    "#defining a fucntion so that I am automatically notified once these gloves are below a price I can afford\n",
    "\n",
    "\n",
    "    def send_mail():\n",
    "    server = smptplib.SMTP_SSL('smpt.gmail.com', 465)\n",
    "    server.ehlo()\n",
    "    server.starttls()\n",
    "    serber.ehlo()\n",
    "    server.login('dhiaelhakhaldi@gmail.com', 'XXXXXXXXXX')\n",
    "    \n",
    "    subject = 'The boxing gloves are now on sale, you shoud buy them.'\n",
    "    body = 'Add it to your collection, so that you can maintain a good quality training without wearing down your gloves'\n",
    "    message = f\"Subject: {subject}\\n\\n{body}\"\n",
    "    \n",
    "    server.sendmail('dhiaelhakhaldi@gmail.com', message)"
   ]
  },
  {
   "cell_type": "code",
   "execution_count": 27,
   "id": "b93dc4da",
   "metadata": {},
   "outputs": [],
   "source": [
    "##automating the procedure\n",
    "\n",
    "def check_price():\n",
    "    url = \"https://www.amazon.com/Venum-Elite-Boxing-Gloves-Black/dp/B010HWJRI6/ref=sr_1_16?crid=2CYLXQJX43PD7&dib=eyJ2IjoiMSJ9.Fum9ItKdpsSii4YIWnyJJPl5PKlhTwpcR7ADnl88XwVY2QiKcEgGhlo5kye1iGmbQks3CZa4XxCN-vknO23m7xWZTGslk-oNbbNli21ojdsskGM3Ra1Wg3WdPefYHuXovp05eoxPW9YoHieRUyoWXDBGHQkOO9z7HHwyaD9bA0vYXdC-wghCehFEy2wETeZb47R80DBjtPnuhyOF5M7GABfix5nvzWvEL0PwCrO8Zhyg2RRaoDwxU5PFc_GbQ2RfrneRRGNCgrg7oMp7v3tlPTLMpJ8Qd50W31glt2pSsZo.K729KPHdRdfEreeOpnUoGRJBbU2rI1ZD4vPV2HbHGXU&dib_tag=se&keywords=boxing%2Bgloves%2B16%2Boz&qid=1710133604&sprefix=boxing%2Bgloves%2B16%2Caps%2C299&sr=8-16&th=1&psc=1\"\n",
    "    options = Options()\n",
    "    options.add_argument('--headless')\n",
    "    options.add_argument('--disable-gpu')\n",
    "    driver = webdriver.Chrome()\n",
    "    driver.get(url)\n",
    "    time.sleep(5)\n",
    "    page = driver.page_source\n",
    "    driver.quit()\n",
    "    soup = BeautifulSoup(page, 'html.parser')\n",
    "\n",
    "\n",
    "    \n",
    "    title = soup.find(id='productTitle').get_text().strip()\n",
    "    price_span = soup.find('span', class_='aok-offscreen')\n",
    "    price = price_span.text.strip()[1:]\n",
    "    rating = soup.find('span', class_ = \"a-icon-alt\").get_text().strip() \n",
    "    \n",
    "    import datetime\n",
    "    date = datetime.date.today()\n",
    "    \n",
    "    import csv\n",
    "    header = ['Title', 'Price', 'Rating', 'Date']\n",
    "    data = [title, price, rating, date]\n",
    "    \n",
    "    with open('AmazongDataSet.csv', 'a+', newline='', encoding='UTF8') as file:\n",
    "        writer = csv.writer(file)\n",
    "        writer.writerow(data)\n",
    "        if price < 40:\n",
    "            send_mail()\n",
    "        \n",
    "while(True):\n",
    "    check_price()\n",
    "    time.sleep(604800)\n",
    "  "
   ]
  },
  {
   "cell_type": "code",
   "execution_count": 30,
   "id": "e0390cb2",
   "metadata": {},
   "outputs": [
    {
     "name": "stdout",
     "output_type": "stream",
     "text": [
      "                       Title  Price              Rating        Date\n",
      "0  Venum Elite Boxing Gloves  88.25  4.7 out of 5 stars  2024-03-12\n",
      "1  Venum Elite Boxing Gloves  88.25  4.7 out of 5 stars  2024-03-12\n",
      "2  Venum Elite Boxing Gloves  88.25  4.7 out of 5 stars  2024-03-12\n"
     ]
    }
   ],
   "source": [
    "df = pd.read_csv(r'C:\\\\Users\\\\Dhia\\AmazongDataSet.csv')\n",
    "\n",
    "print(df)"
   ]
  },
  {
   "cell_type": "code",
   "execution_count": null,
   "id": "d4ee4602",
   "metadata": {},
   "outputs": [],
   "source": [
    "\n"
   ]
  },
  {
   "cell_type": "code",
   "execution_count": 17,
   "id": "7ce86410",
   "metadata": {},
   "outputs": [],
   "source": []
  },
  {
   "cell_type": "code",
   "execution_count": null,
   "id": "e15b9996",
   "metadata": {},
   "outputs": [],
   "source": []
  },
  {
   "cell_type": "code",
   "execution_count": null,
   "id": "bbbd9569",
   "metadata": {},
   "outputs": [],
   "source": []
  },
  {
   "cell_type": "code",
   "execution_count": null,
   "id": "629fc7a0",
   "metadata": {},
   "outputs": [],
   "source": []
  },
  {
   "cell_type": "code",
   "execution_count": null,
   "id": "f1f1f209",
   "metadata": {},
   "outputs": [],
   "source": []
  },
  {
   "cell_type": "code",
   "execution_count": null,
   "id": "d98cdc4e",
   "metadata": {},
   "outputs": [],
   "source": []
  },
  {
   "cell_type": "code",
   "execution_count": null,
   "id": "cf8ca377",
   "metadata": {},
   "outputs": [],
   "source": []
  },
  {
   "cell_type": "code",
   "execution_count": null,
   "id": "5d44f7d1",
   "metadata": {},
   "outputs": [],
   "source": []
  },
  {
   "cell_type": "code",
   "execution_count": null,
   "id": "57b9de0c",
   "metadata": {},
   "outputs": [],
   "source": []
  },
  {
   "cell_type": "code",
   "execution_count": null,
   "id": "01adad37",
   "metadata": {},
   "outputs": [],
   "source": []
  },
  {
   "cell_type": "code",
   "execution_count": null,
   "id": "abb4dd43",
   "metadata": {},
   "outputs": [],
   "source": []
  },
  {
   "cell_type": "code",
   "execution_count": null,
   "id": "5ae9e349",
   "metadata": {},
   "outputs": [],
   "source": []
  },
  {
   "cell_type": "code",
   "execution_count": null,
   "id": "027e0664",
   "metadata": {},
   "outputs": [],
   "source": []
  }
 ],
 "metadata": {
  "kernelspec": {
   "display_name": "Python 3 (ipykernel)",
   "language": "python",
   "name": "python3"
  },
  "language_info": {
   "codemirror_mode": {
    "name": "ipython",
    "version": 3
   },
   "file_extension": ".py",
   "mimetype": "text/x-python",
   "name": "python",
   "nbconvert_exporter": "python",
   "pygments_lexer": "ipython3",
   "version": "3.11.5"
  }
 },
 "nbformat": 4,
 "nbformat_minor": 5
}
