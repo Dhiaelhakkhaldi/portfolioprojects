{
 "cells": [
  {
   "cell_type": "code",
   "execution_count": 3,
   "id": "7358aa04",
   "metadata": {},
   "outputs": [],
   "source": [
    "import csv"
   ]
  },
  {
   "cell_type": "code",
   "execution_count": 14,
   "id": "81a5f469",
   "metadata": {},
   "outputs": [
    {
     "name": "stdout",
     "output_type": "stream",
     "text": [
      "Pop: 8\n",
      "Jazz: 1\n",
      "Rock: 2\n"
     ]
    }
   ],
   "source": [
    "file_path = r'C:\\Users\\Dhia\\Desktop\\albumsales.csv'\n",
    "with open(file_path, \"r\") as file:\n",
    "    reader = csv.DictReader(file)\n",
    "    Pop, Rock, Jazz = 0, 0 ,0\n",
    "    \n",
    "    for row in reader:\n",
    "        favorite = row[\"Genre\"]\n",
    "        if favorite == 'Pop':\n",
    "            Pop += 1\n",
    "        elif favorite == 'Jazz':\n",
    "            Jazz += 1\n",
    "        elif favorite == 'Rock':\n",
    "            Rock +=1\n",
    "\n",
    "print(f'Pop: {Pop}')\n",
    "print(f'Jazz: {Jazz}')\n",
    "print(f'Rock: {Rock}')    "
   ]
  },
  {
   "cell_type": "code",
   "execution_count": 12,
   "id": "d3b81d61",
   "metadata": {},
   "outputs": [
    {
     "name": "stdout",
     "output_type": "stream",
     "text": [
      "Pop: 8\n",
      "Pop, R&B: 4\n",
      "Hard rock, glam metal: 3\n",
      "Hip hop: 2\n",
      "Rock: 2\n",
      "Pop, dance: 2\n",
      "Folk rock: 2\n",
      "Jazz: 1\n",
      "Rock and roll: 1\n",
      "Film score: 1\n",
      "Grunge, alternative rock: 1\n",
      "Acoustic rock, acoustic blues: 1\n",
      "Pop rock: 1\n",
      "Nu metal, rap metal, alternative metal: 1\n",
      "Pop rock, new wave, R&B: 1\n",
      "Pop, R&B, funk, soul: 1\n",
      "Soul, pop, R&B: 1\n",
      "R&B, pop, hip hop: 1\n",
      "Roots rock, heartland rock: 1\n",
      "Christmas, pop, gospel, rock and roll: 1\n",
      "Arena rock, hard rock: 1\n",
      "Pop punk, punk rock, alternative rock: 1\n",
      "Country, pop: 1\n",
      "Neo Soul, R&B, Hip Hop: 1\n",
      "Pop, R&B, soul: 1\n",
      "Disco, pop, funk, R&B: 1\n",
      "Alternative hip hop: 1\n",
      "Britpop, rock: 1\n",
      "rock, pop rock, glam rock: 1\n",
      "Progressive rock, art rock, experimental rock: 1\n",
      "Electro, synthpop: 1\n"
     ]
    }
   ],
   "source": [
    "file_path = r'C:\\Users\\Dhia\\Desktop\\albumsales.csv'\n",
    "with open(file_path, \"r\") as file:\n",
    "    reader = csv.DictReader(file)\n",
    "    counts = {}\n",
    "    for row in reader:\n",
    "        sales = row[\"Genre\"]\n",
    "        if sales in counts:\n",
    "            counts[sales] += 1\n",
    "        else:\n",
    "            counts[sales] = 1\n",
    "            \n",
    "            \n",
    "for sales in sorted(counts, key=counts.get, reverse=True):\n",
    "    print(f'{sales}: {counts[sales]}')"
   ]
  },
  {
   "cell_type": "code",
   "execution_count": 13,
   "id": "b130c248",
   "metadata": {},
   "outputs": [],
   "source": [
    "from collections import Counter"
   ]
  },
  {
   "cell_type": "code",
   "execution_count": 19,
   "id": "fe15de78",
   "metadata": {},
   "outputs": [
    {
     "name": "stdout",
     "output_type": "stream",
     "text": [
      "Pop: 8\n",
      "Pop, R&B: 4\n",
      "Hard rock, glam metal: 3\n",
      "Hip hop: 2\n",
      "Rock: 2\n",
      "Pop, dance: 2\n",
      "Folk rock: 2\n",
      "Jazz: 1\n",
      "Rock and roll: 1\n",
      "Film score: 1\n",
      "Grunge, alternative rock: 1\n",
      "Acoustic rock, acoustic blues: 1\n",
      "Pop rock: 1\n",
      "Nu metal, rap metal, alternative metal: 1\n",
      "Pop rock, new wave, R&B: 1\n",
      "Pop, R&B, funk, soul: 1\n",
      "Soul, pop, R&B: 1\n",
      "R&B, pop, hip hop: 1\n",
      "Roots rock, heartland rock: 1\n",
      "Christmas, pop, gospel, rock and roll: 1\n",
      "Arena rock, hard rock: 1\n",
      "Pop punk, punk rock, alternative rock: 1\n",
      "Country, pop: 1\n",
      "Neo Soul, R&B, Hip Hop: 1\n",
      "Pop, R&B, soul: 1\n",
      "Disco, pop, funk, R&B: 1\n",
      "Alternative hip hop: 1\n",
      "Britpop, rock: 1\n",
      "rock, pop rock, glam rock: 1\n",
      "Progressive rock, art rock, experimental rock: 1\n",
      "Electro, synthpop: 1\n"
     ]
    }
   ],
   "source": [
    "destination = r'C:\\Users\\Dhia\\Desktop\\albumsales.csv'\n",
    "with open(destination, 'r') as dossier:\n",
    "    reader = csv.DictReader(dossier)\n",
    "    counts = Counter()\n",
    "    \n",
    "    for row in reader:\n",
    "        MostSales = row['Genre']\n",
    "        counts[MostSales] += 1\n",
    "\n",
    "for MostSales, count in counts.most_common():\n",
    "    print(f'{MostSales}: {count}')"
   ]
  },
  {
   "cell_type": "code",
   "execution_count": 23,
   "id": "a1a37049",
   "metadata": {},
   "outputs": [
    {
     "name": "stdout",
     "output_type": "stream",
     "text": [
      "What is the genre that you are looking for? Jazz\n",
      "Jazz: 1\n"
     ]
    }
   ],
   "source": [
    "destination = r'C:\\Users\\Dhia\\Desktop\\albumsales.csv'\n",
    "with open(destination, 'r') as dossier:\n",
    "    reader = csv.DictReader(dossier)\n",
    "    counts = Counter()\n",
    "    \n",
    "    for row in reader:\n",
    "        MostSales = row['Genre']\n",
    "        counts[MostSales] += 1\n",
    "\n",
    "MostSales = input('What is the genre that you are looking for? ')\n",
    "print(f'{MostSales}: {counts[MostSales]}')"
   ]
  },
  {
   "cell_type": "code",
   "execution_count": null,
   "id": "02c11da2",
   "metadata": {},
   "outputs": [],
   "source": []
  },
  {
   "cell_type": "code",
   "execution_count": null,
   "id": "56c5e042",
   "metadata": {},
   "outputs": [],
   "source": []
  },
  {
   "cell_type": "code",
   "execution_count": null,
   "id": "9ec97917",
   "metadata": {},
   "outputs": [],
   "source": []
  },
  {
   "cell_type": "code",
   "execution_count": null,
   "id": "072c629c",
   "metadata": {},
   "outputs": [],
   "source": []
  },
  {
   "cell_type": "code",
   "execution_count": null,
   "id": "68b41af4",
   "metadata": {},
   "outputs": [],
   "source": []
  },
  {
   "cell_type": "code",
   "execution_count": null,
   "id": "ad455fca",
   "metadata": {},
   "outputs": [],
   "source": []
  },
  {
   "cell_type": "code",
   "execution_count": null,
   "id": "d9e34fa0",
   "metadata": {},
   "outputs": [],
   "source": []
  },
  {
   "cell_type": "code",
   "execution_count": null,
   "id": "82e36194",
   "metadata": {},
   "outputs": [],
   "source": []
  },
  {
   "cell_type": "code",
   "execution_count": null,
   "id": "89f2e88b",
   "metadata": {},
   "outputs": [],
   "source": []
  },
  {
   "cell_type": "code",
   "execution_count": null,
   "id": "cb553985",
   "metadata": {},
   "outputs": [],
   "source": []
  },
  {
   "cell_type": "code",
   "execution_count": null,
   "id": "dc7fc46d",
   "metadata": {},
   "outputs": [],
   "source": []
  },
  {
   "cell_type": "code",
   "execution_count": null,
   "id": "a07cb181",
   "metadata": {},
   "outputs": [],
   "source": []
  },
  {
   "cell_type": "code",
   "execution_count": null,
   "id": "3793c956",
   "metadata": {},
   "outputs": [],
   "source": []
  },
  {
   "cell_type": "code",
   "execution_count": null,
   "id": "91aca6c5",
   "metadata": {},
   "outputs": [],
   "source": []
  },
  {
   "cell_type": "code",
   "execution_count": null,
   "id": "a6596f70",
   "metadata": {},
   "outputs": [],
   "source": []
  },
  {
   "cell_type": "code",
   "execution_count": null,
   "id": "15219993",
   "metadata": {},
   "outputs": [],
   "source": []
  },
  {
   "cell_type": "code",
   "execution_count": null,
   "id": "edd3b40e",
   "metadata": {},
   "outputs": [],
   "source": []
  },
  {
   "cell_type": "code",
   "execution_count": null,
   "id": "776b82e1",
   "metadata": {},
   "outputs": [],
   "source": []
  }
 ],
 "metadata": {
  "kernelspec": {
   "display_name": "Python 3 (ipykernel)",
   "language": "python",
   "name": "python3"
  },
  "language_info": {
   "codemirror_mode": {
    "name": "ipython",
    "version": 3
   },
   "file_extension": ".py",
   "mimetype": "text/x-python",
   "name": "python",
   "nbconvert_exporter": "python",
   "pygments_lexer": "ipython3",
   "version": "3.11.5"
  }
 },
 "nbformat": 4,
 "nbformat_minor": 5
}
